{
  "nbformat": 4,
  "nbformat_minor": 0,
  "metadata": {
    "colab": {
      "provenance": [],
      "authorship_tag": "ABX9TyNNiKMpwPkeKVJDz42dq2FQ",
      "include_colab_link": true
    },
    "kernelspec": {
      "name": "python3",
      "display_name": "Python 3"
    },
    "language_info": {
      "name": "python"
    }
  },
  "cells": [
    {
      "cell_type": "markdown",
      "metadata": {
        "id": "view-in-github",
        "colab_type": "text"
      },
      "source": [
        "<a href=\"https://colab.research.google.com/github/jinbeydev/id_pandas_series/blob/main/1_Pengenalan_Pandas.ipynb\" target=\"_parent\"><img src=\"https://colab.research.google.com/assets/colab-badge.svg\" alt=\"Open In Colab\"/></a>"
      ]
    },
    {
      "cell_type": "markdown",
      "source": [
        "# Apa itu Pandas?\n",
        "\n",
        "- Python library untuk memanipulasi dan menganalisis data yang terstruktur (tabular) seperti data di Excel, CSV, SQL\n",
        "- Open source, bisa digunakan secara gratis\n",
        "- Menyediakan cara yang mudah untuk memuat, memanipulasi, dan menganalisis data dalam format tabel, mirip dengan spreadsheet atau tabel SQL."
      ],
      "metadata": {
        "id": "hcjno7MfOP0J"
      }
    },
    {
      "cell_type": "markdown",
      "source": [
        "# Mengenai Google Colab\n",
        "\n",
        "- Notebook editor seperti Jupyter Notebook, yang disediakan Google gratis untuk di pakai.\n",
        "- Alat analisis data dan pembelajaran mesin yang memungkinkan Anda menggabungkan kode Python yang dapat dieksekusi dan teks kaya beserta bagan, gambar, HTML, LaTeX, dan lainnya ke dalam satu dokumen yang disimpan di Google Drive.\n",
        "- Untuk menggunakan Google Colab, cukup buka https://colab.research.google.com/ dan masuk dengan akun Google Anda. Setelah masuk, buat buku notebook baru dan beri nama apa pun yang Anda suka.\n",
        "- Shortcut untuk eksekusi code\n",
        "  - `Shift` + `Enter`: Eksekusi code and membuat cell yang baru (atau cursor pindah ke sel berikutnya)\n",
        "  - `Ctrl` + `Enter`: Ekesukusi code tanpa membuat cell baru (cursor tetap di cell yang di eksekusi) (MAC OS: `CMD` + `Enter`)\n",
        "\n",
        "- "
      ],
      "metadata": {
        "id": "GKLDExutoesZ"
      }
    },
    {
      "cell_type": "markdown",
      "source": [
        "# Import Pandas"
      ],
      "metadata": {
        "id": "8re7f36JSwkr"
      }
    },
    {
      "cell_type": "markdown",
      "source": [
        "# Data Struktur Utama\n",
        "\n",
        "- Series: one-dimensional data\n",
        "- DataFrame: two-dimensioanal data (baris dan kolom)"
      ],
      "metadata": {
        "id": "v7ITl7AmS1FV"
      }
    }
  ]
}