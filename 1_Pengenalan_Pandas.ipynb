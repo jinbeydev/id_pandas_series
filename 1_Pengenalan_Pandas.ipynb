{
  "nbformat": 4,
  "nbformat_minor": 0,
  "metadata": {
    "colab": {
      "provenance": [],
      "authorship_tag": "ABX9TyM79LIsjGIVYHofJC4S0FwS",
      "include_colab_link": true
    },
    "kernelspec": {
      "name": "python3",
      "display_name": "Python 3"
    },
    "language_info": {
      "name": "python"
    }
  },
  "cells": [
    {
      "cell_type": "markdown",
      "metadata": {
        "id": "view-in-github",
        "colab_type": "text"
      },
      "source": [
        "<a href=\"https://colab.research.google.com/github/jinbeydev/id_pandas_series/blob/main/1_Pengenalan_Pandas.ipynb\" target=\"_parent\"><img src=\"https://colab.research.google.com/assets/colab-badge.svg\" alt=\"Open In Colab\"/></a>"
      ]
    },
    {
      "cell_type": "markdown",
      "source": [
        "# Apa itu Pandas?\n",
        "\n",
        "- Sebuah Python library yang digunakan memanipulasi dan menganalisis data yang terstruktur (tabular) seperti data di Excel, CSV, SQL.\n",
        "- Open source -> bisa digunakan secara gratis.\n",
        "- Mempunyai banyak fitur bagus untuk memanipulasi dan menganalisis data."
      ],
      "metadata": {
        "id": "hcjno7MfOP0J"
      }
    },
    {
      "cell_type": "markdown",
      "source": [
        "# Mengenai Google Colab\n",
        "\n",
        "- Notebook editor seperti Jupyter Notebook, yang disediakan Google gratis untuk di pakai.\n",
        "- Didesain untuk data analisis, *machine learning*, edukasi.\n",
        "- Untuk menggunakan Google Colab, cukup buka https://colab.research.google.com/ dan masuk dengan akun Google. Setelah masuk, buat buku notebook baru.\n",
        "- *Shortcut* untuk eksekusi code\n",
        "  - `Shift` + `Enter`: Eksekusi code and membuat cell yang baru (atau cursor pindah ke sel berikutnya)\n",
        "  - `Ctrl` + `Enter`: Ekesukusi code tanpa membuat cell baru (cursor tetap di cell yang di eksekusi) (MAC OS: `CMD` + `Enter`)"
      ],
      "metadata": {
        "id": "GKLDExutoesZ"
      }
    },
    {
      "cell_type": "markdown",
      "source": [
        "# Import Pandas"
      ],
      "metadata": {
        "id": "8re7f36JSwkr"
      }
    },
    {
      "cell_type": "code",
      "source": [
        "import pandas as pd"
      ],
      "metadata": {
        "id": "bQk_F6hdV1AT"
      },
      "execution_count": 4,
      "outputs": []
    },
    {
      "cell_type": "markdown",
      "source": [
        "# Dua struktur data utama\n",
        "\n",
        "Dua struktur yang sering dipakai:\n",
        "- **Series**: satu dimensi data\n",
        "- **DataFrame**: dua dimensi data (seperti table yang mempunyai baris dan kolom)"
      ],
      "metadata": {
        "id": "v7ITl7AmS1FV"
      }
    },
    {
      "cell_type": "markdown",
      "source": [
        "# Membuat DataFrame dari CSV data\n",
        "\n",
        "- Bisa memuat data dari beberapa jenis file, seperti CSV, excel\n",
        "- Untuk memuat CSV file, bisa dilakukan seperti ini."
      ],
      "metadata": {
        "id": "V-FVLZdPUUkH"
      }
    },
    {
      "cell_type": "code",
      "source": [
        "df = pd.read_csv('id_corona_cases.csv')\n",
        "\n",
        "df.head()"
      ],
      "metadata": {
        "colab": {
          "base_uri": "https://localhost:8080/",
          "height": 443
        },
        "id": "v4dFnFILV2E0",
        "outputId": "b4d9ae24-ddbc-45c3-c613-b739557fb897"
      },
      "execution_count": 5,
      "outputs": [
        {
          "output_type": "execute_result",
          "data": {
            "text/plain": [
              "       date  new_tested  acc_tested  new_confirmed  acc_confirmed  \\\n",
              "0  2-Mar-20         NaN         339              2              2   \n",
              "1  3-Mar-20         2.0         341              0              2   \n",
              "2  4-Mar-20        31.0         372              0              2   \n",
              "3  5-Mar-20        16.0         388              0              2   \n",
              "4  6-Mar-20        62.0         450              2              4   \n",
              "\n",
              "   acc_negative  being_checked  isolated  new_released  acc_released  \\\n",
              "0           335              2         2             0             0   \n",
              "1           337              2         2             0             0   \n",
              "2           356             14         2             0             0   \n",
              "3           371             15         2             0             0   \n",
              "4           422             24         4             0             0   \n",
              "\n",
              "   new_deceased  acc_deceased positive_rate negative_rate decease_rate  \\\n",
              "0             0             0         0.59%        98.82%        0.00%   \n",
              "1             0             0         0.59%        98.83%        0.00%   \n",
              "2             0             0         0.54%        95.70%        0.00%   \n",
              "3             0             0         0.52%        95.62%        0.00%   \n",
              "4             0             0         0.89%        93.78%        0.00%   \n",
              "\n",
              "  release_rate dailypositive_rate  \n",
              "0        0.00%              0.00%  \n",
              "1        0.00%              0.00%  \n",
              "2        0.00%              0.00%  \n",
              "3        0.00%              0.00%  \n",
              "4        0.00%              3.23%  "
            ],
            "text/html": [
              "\n",
              "  <div id=\"df-c91fbc58-4182-4af6-9386-a93a0f3cded3\">\n",
              "    <div class=\"colab-df-container\">\n",
              "      <div>\n",
              "<style scoped>\n",
              "    .dataframe tbody tr th:only-of-type {\n",
              "        vertical-align: middle;\n",
              "    }\n",
              "\n",
              "    .dataframe tbody tr th {\n",
              "        vertical-align: top;\n",
              "    }\n",
              "\n",
              "    .dataframe thead th {\n",
              "        text-align: right;\n",
              "    }\n",
              "</style>\n",
              "<table border=\"1\" class=\"dataframe\">\n",
              "  <thead>\n",
              "    <tr style=\"text-align: right;\">\n",
              "      <th></th>\n",
              "      <th>date</th>\n",
              "      <th>new_tested</th>\n",
              "      <th>acc_tested</th>\n",
              "      <th>new_confirmed</th>\n",
              "      <th>acc_confirmed</th>\n",
              "      <th>acc_negative</th>\n",
              "      <th>being_checked</th>\n",
              "      <th>isolated</th>\n",
              "      <th>new_released</th>\n",
              "      <th>acc_released</th>\n",
              "      <th>new_deceased</th>\n",
              "      <th>acc_deceased</th>\n",
              "      <th>positive_rate</th>\n",
              "      <th>negative_rate</th>\n",
              "      <th>decease_rate</th>\n",
              "      <th>release_rate</th>\n",
              "      <th>dailypositive_rate</th>\n",
              "    </tr>\n",
              "  </thead>\n",
              "  <tbody>\n",
              "    <tr>\n",
              "      <th>0</th>\n",
              "      <td>2-Mar-20</td>\n",
              "      <td>NaN</td>\n",
              "      <td>339</td>\n",
              "      <td>2</td>\n",
              "      <td>2</td>\n",
              "      <td>335</td>\n",
              "      <td>2</td>\n",
              "      <td>2</td>\n",
              "      <td>0</td>\n",
              "      <td>0</td>\n",
              "      <td>0</td>\n",
              "      <td>0</td>\n",
              "      <td>0.59%</td>\n",
              "      <td>98.82%</td>\n",
              "      <td>0.00%</td>\n",
              "      <td>0.00%</td>\n",
              "      <td>0.00%</td>\n",
              "    </tr>\n",
              "    <tr>\n",
              "      <th>1</th>\n",
              "      <td>3-Mar-20</td>\n",
              "      <td>2.0</td>\n",
              "      <td>341</td>\n",
              "      <td>0</td>\n",
              "      <td>2</td>\n",
              "      <td>337</td>\n",
              "      <td>2</td>\n",
              "      <td>2</td>\n",
              "      <td>0</td>\n",
              "      <td>0</td>\n",
              "      <td>0</td>\n",
              "      <td>0</td>\n",
              "      <td>0.59%</td>\n",
              "      <td>98.83%</td>\n",
              "      <td>0.00%</td>\n",
              "      <td>0.00%</td>\n",
              "      <td>0.00%</td>\n",
              "    </tr>\n",
              "    <tr>\n",
              "      <th>2</th>\n",
              "      <td>4-Mar-20</td>\n",
              "      <td>31.0</td>\n",
              "      <td>372</td>\n",
              "      <td>0</td>\n",
              "      <td>2</td>\n",
              "      <td>356</td>\n",
              "      <td>14</td>\n",
              "      <td>2</td>\n",
              "      <td>0</td>\n",
              "      <td>0</td>\n",
              "      <td>0</td>\n",
              "      <td>0</td>\n",
              "      <td>0.54%</td>\n",
              "      <td>95.70%</td>\n",
              "      <td>0.00%</td>\n",
              "      <td>0.00%</td>\n",
              "      <td>0.00%</td>\n",
              "    </tr>\n",
              "    <tr>\n",
              "      <th>3</th>\n",
              "      <td>5-Mar-20</td>\n",
              "      <td>16.0</td>\n",
              "      <td>388</td>\n",
              "      <td>0</td>\n",
              "      <td>2</td>\n",
              "      <td>371</td>\n",
              "      <td>15</td>\n",
              "      <td>2</td>\n",
              "      <td>0</td>\n",
              "      <td>0</td>\n",
              "      <td>0</td>\n",
              "      <td>0</td>\n",
              "      <td>0.52%</td>\n",
              "      <td>95.62%</td>\n",
              "      <td>0.00%</td>\n",
              "      <td>0.00%</td>\n",
              "      <td>0.00%</td>\n",
              "    </tr>\n",
              "    <tr>\n",
              "      <th>4</th>\n",
              "      <td>6-Mar-20</td>\n",
              "      <td>62.0</td>\n",
              "      <td>450</td>\n",
              "      <td>2</td>\n",
              "      <td>4</td>\n",
              "      <td>422</td>\n",
              "      <td>24</td>\n",
              "      <td>4</td>\n",
              "      <td>0</td>\n",
              "      <td>0</td>\n",
              "      <td>0</td>\n",
              "      <td>0</td>\n",
              "      <td>0.89%</td>\n",
              "      <td>93.78%</td>\n",
              "      <td>0.00%</td>\n",
              "      <td>0.00%</td>\n",
              "      <td>3.23%</td>\n",
              "    </tr>\n",
              "  </tbody>\n",
              "</table>\n",
              "</div>\n",
              "      <button class=\"colab-df-convert\" onclick=\"convertToInteractive('df-c91fbc58-4182-4af6-9386-a93a0f3cded3')\"\n",
              "              title=\"Convert this dataframe to an interactive table.\"\n",
              "              style=\"display:none;\">\n",
              "        \n",
              "  <svg xmlns=\"http://www.w3.org/2000/svg\" height=\"24px\"viewBox=\"0 0 24 24\"\n",
              "       width=\"24px\">\n",
              "    <path d=\"M0 0h24v24H0V0z\" fill=\"none\"/>\n",
              "    <path d=\"M18.56 5.44l.94 2.06.94-2.06 2.06-.94-2.06-.94-.94-2.06-.94 2.06-2.06.94zm-11 1L8.5 8.5l.94-2.06 2.06-.94-2.06-.94L8.5 2.5l-.94 2.06-2.06.94zm10 10l.94 2.06.94-2.06 2.06-.94-2.06-.94-.94-2.06-.94 2.06-2.06.94z\"/><path d=\"M17.41 7.96l-1.37-1.37c-.4-.4-.92-.59-1.43-.59-.52 0-1.04.2-1.43.59L10.3 9.45l-7.72 7.72c-.78.78-.78 2.05 0 2.83L4 21.41c.39.39.9.59 1.41.59.51 0 1.02-.2 1.41-.59l7.78-7.78 2.81-2.81c.8-.78.8-2.07 0-2.86zM5.41 20L4 18.59l7.72-7.72 1.47 1.35L5.41 20z\"/>\n",
              "  </svg>\n",
              "      </button>\n",
              "      \n",
              "  <style>\n",
              "    .colab-df-container {\n",
              "      display:flex;\n",
              "      flex-wrap:wrap;\n",
              "      gap: 12px;\n",
              "    }\n",
              "\n",
              "    .colab-df-convert {\n",
              "      background-color: #E8F0FE;\n",
              "      border: none;\n",
              "      border-radius: 50%;\n",
              "      cursor: pointer;\n",
              "      display: none;\n",
              "      fill: #1967D2;\n",
              "      height: 32px;\n",
              "      padding: 0 0 0 0;\n",
              "      width: 32px;\n",
              "    }\n",
              "\n",
              "    .colab-df-convert:hover {\n",
              "      background-color: #E2EBFA;\n",
              "      box-shadow: 0px 1px 2px rgba(60, 64, 67, 0.3), 0px 1px 3px 1px rgba(60, 64, 67, 0.15);\n",
              "      fill: #174EA6;\n",
              "    }\n",
              "\n",
              "    [theme=dark] .colab-df-convert {\n",
              "      background-color: #3B4455;\n",
              "      fill: #D2E3FC;\n",
              "    }\n",
              "\n",
              "    [theme=dark] .colab-df-convert:hover {\n",
              "      background-color: #434B5C;\n",
              "      box-shadow: 0px 1px 3px 1px rgba(0, 0, 0, 0.15);\n",
              "      filter: drop-shadow(0px 1px 2px rgba(0, 0, 0, 0.3));\n",
              "      fill: #FFFFFF;\n",
              "    }\n",
              "  </style>\n",
              "\n",
              "      <script>\n",
              "        const buttonEl =\n",
              "          document.querySelector('#df-c91fbc58-4182-4af6-9386-a93a0f3cded3 button.colab-df-convert');\n",
              "        buttonEl.style.display =\n",
              "          google.colab.kernel.accessAllowed ? 'block' : 'none';\n",
              "\n",
              "        async function convertToInteractive(key) {\n",
              "          const element = document.querySelector('#df-c91fbc58-4182-4af6-9386-a93a0f3cded3');\n",
              "          const dataTable =\n",
              "            await google.colab.kernel.invokeFunction('convertToInteractive',\n",
              "                                                     [key], {});\n",
              "          if (!dataTable) return;\n",
              "\n",
              "          const docLinkHtml = 'Like what you see? Visit the ' +\n",
              "            '<a target=\"_blank\" href=https://colab.research.google.com/notebooks/data_table.ipynb>data table notebook</a>'\n",
              "            + ' to learn more about interactive tables.';\n",
              "          element.innerHTML = '';\n",
              "          dataTable['output_type'] = 'display_data';\n",
              "          await google.colab.output.renderOutput(dataTable, element);\n",
              "          const docLink = document.createElement('div');\n",
              "          docLink.innerHTML = docLinkHtml;\n",
              "          element.appendChild(docLink);\n",
              "        }\n",
              "      </script>\n",
              "    </div>\n",
              "  </div>\n",
              "  "
            ]
          },
          "metadata": {},
          "execution_count": 5
        }
      ]
    },
    {
      "cell_type": "markdown",
      "source": [
        "Untuk mengecek type dari sebuah variable, gunakan fungsi `type()`."
      ],
      "metadata": {
        "id": "m9bnRpSnjjnp"
      }
    },
    {
      "cell_type": "code",
      "source": [
        "type(df)"
      ],
      "metadata": {
        "colab": {
          "base_uri": "https://localhost:8080/"
        },
        "id": "1seLPyvkjgfP",
        "outputId": "02eb52a5-c154-4f99-89b7-e1ba6d1ee918"
      },
      "execution_count": 6,
      "outputs": [
        {
          "output_type": "execute_result",
          "data": {
            "text/plain": [
              "pandas.core.frame.DataFrame"
            ]
          },
          "metadata": {},
          "execution_count": 6
        }
      ]
    },
    {
      "cell_type": "markdown",
      "source": [
        "Bisa kita lihat `pd.read_csv` menghasilan data bertipe `DataFrame`"
      ],
      "metadata": {
        "id": "r2DNMNpujsIE"
      }
    },
    {
      "cell_type": "markdown",
      "source": [
        "# Membuat DataFrame dari *scratch*\n",
        "\n",
        "- Banyak cara kita membuat DataFrame dari *scratch*.\n",
        "- Kita bisa membuat DataFrame dari `ndarrays`, `lists`, `dicts`, or `Series`\n",
        "- Contoh membuat DataFrame dari `dicts`\n",
        "\n"
      ],
      "metadata": {
        "id": "jJEbRSuOV2lU"
      }
    },
    {
      "cell_type": "code",
      "source": [
        "data = {'name': ['Jinbey', 'Jhonny', 'Willy'], 'age': [12, 20, 40]}\n",
        "df = pd.DataFrame(data)\n",
        "df"
      ],
      "metadata": {
        "colab": {
          "base_uri": "https://localhost:8080/",
          "height": 143
        },
        "id": "ej0uT3iIWFWy",
        "outputId": "18f3d5cc-d6b3-44a9-c119-343db160e2df"
      },
      "execution_count": 9,
      "outputs": [
        {
          "output_type": "execute_result",
          "data": {
            "text/plain": [
              "     name  age\n",
              "0  Jinbey   12\n",
              "1  Jhonny   20\n",
              "2   Willy   40"
            ],
            "text/html": [
              "\n",
              "  <div id=\"df-f3337457-c446-4b0c-956e-3c9037d11155\">\n",
              "    <div class=\"colab-df-container\">\n",
              "      <div>\n",
              "<style scoped>\n",
              "    .dataframe tbody tr th:only-of-type {\n",
              "        vertical-align: middle;\n",
              "    }\n",
              "\n",
              "    .dataframe tbody tr th {\n",
              "        vertical-align: top;\n",
              "    }\n",
              "\n",
              "    .dataframe thead th {\n",
              "        text-align: right;\n",
              "    }\n",
              "</style>\n",
              "<table border=\"1\" class=\"dataframe\">\n",
              "  <thead>\n",
              "    <tr style=\"text-align: right;\">\n",
              "      <th></th>\n",
              "      <th>name</th>\n",
              "      <th>age</th>\n",
              "    </tr>\n",
              "  </thead>\n",
              "  <tbody>\n",
              "    <tr>\n",
              "      <th>0</th>\n",
              "      <td>Jinbey</td>\n",
              "      <td>12</td>\n",
              "    </tr>\n",
              "    <tr>\n",
              "      <th>1</th>\n",
              "      <td>Jhonny</td>\n",
              "      <td>20</td>\n",
              "    </tr>\n",
              "    <tr>\n",
              "      <th>2</th>\n",
              "      <td>Willy</td>\n",
              "      <td>40</td>\n",
              "    </tr>\n",
              "  </tbody>\n",
              "</table>\n",
              "</div>\n",
              "      <button class=\"colab-df-convert\" onclick=\"convertToInteractive('df-f3337457-c446-4b0c-956e-3c9037d11155')\"\n",
              "              title=\"Convert this dataframe to an interactive table.\"\n",
              "              style=\"display:none;\">\n",
              "        \n",
              "  <svg xmlns=\"http://www.w3.org/2000/svg\" height=\"24px\"viewBox=\"0 0 24 24\"\n",
              "       width=\"24px\">\n",
              "    <path d=\"M0 0h24v24H0V0z\" fill=\"none\"/>\n",
              "    <path d=\"M18.56 5.44l.94 2.06.94-2.06 2.06-.94-2.06-.94-.94-2.06-.94 2.06-2.06.94zm-11 1L8.5 8.5l.94-2.06 2.06-.94-2.06-.94L8.5 2.5l-.94 2.06-2.06.94zm10 10l.94 2.06.94-2.06 2.06-.94-2.06-.94-.94-2.06-.94 2.06-2.06.94z\"/><path d=\"M17.41 7.96l-1.37-1.37c-.4-.4-.92-.59-1.43-.59-.52 0-1.04.2-1.43.59L10.3 9.45l-7.72 7.72c-.78.78-.78 2.05 0 2.83L4 21.41c.39.39.9.59 1.41.59.51 0 1.02-.2 1.41-.59l7.78-7.78 2.81-2.81c.8-.78.8-2.07 0-2.86zM5.41 20L4 18.59l7.72-7.72 1.47 1.35L5.41 20z\"/>\n",
              "  </svg>\n",
              "      </button>\n",
              "      \n",
              "  <style>\n",
              "    .colab-df-container {\n",
              "      display:flex;\n",
              "      flex-wrap:wrap;\n",
              "      gap: 12px;\n",
              "    }\n",
              "\n",
              "    .colab-df-convert {\n",
              "      background-color: #E8F0FE;\n",
              "      border: none;\n",
              "      border-radius: 50%;\n",
              "      cursor: pointer;\n",
              "      display: none;\n",
              "      fill: #1967D2;\n",
              "      height: 32px;\n",
              "      padding: 0 0 0 0;\n",
              "      width: 32px;\n",
              "    }\n",
              "\n",
              "    .colab-df-convert:hover {\n",
              "      background-color: #E2EBFA;\n",
              "      box-shadow: 0px 1px 2px rgba(60, 64, 67, 0.3), 0px 1px 3px 1px rgba(60, 64, 67, 0.15);\n",
              "      fill: #174EA6;\n",
              "    }\n",
              "\n",
              "    [theme=dark] .colab-df-convert {\n",
              "      background-color: #3B4455;\n",
              "      fill: #D2E3FC;\n",
              "    }\n",
              "\n",
              "    [theme=dark] .colab-df-convert:hover {\n",
              "      background-color: #434B5C;\n",
              "      box-shadow: 0px 1px 3px 1px rgba(0, 0, 0, 0.15);\n",
              "      filter: drop-shadow(0px 1px 2px rgba(0, 0, 0, 0.3));\n",
              "      fill: #FFFFFF;\n",
              "    }\n",
              "  </style>\n",
              "\n",
              "      <script>\n",
              "        const buttonEl =\n",
              "          document.querySelector('#df-f3337457-c446-4b0c-956e-3c9037d11155 button.colab-df-convert');\n",
              "        buttonEl.style.display =\n",
              "          google.colab.kernel.accessAllowed ? 'block' : 'none';\n",
              "\n",
              "        async function convertToInteractive(key) {\n",
              "          const element = document.querySelector('#df-f3337457-c446-4b0c-956e-3c9037d11155');\n",
              "          const dataTable =\n",
              "            await google.colab.kernel.invokeFunction('convertToInteractive',\n",
              "                                                     [key], {});\n",
              "          if (!dataTable) return;\n",
              "\n",
              "          const docLinkHtml = 'Like what you see? Visit the ' +\n",
              "            '<a target=\"_blank\" href=https://colab.research.google.com/notebooks/data_table.ipynb>data table notebook</a>'\n",
              "            + ' to learn more about interactive tables.';\n",
              "          element.innerHTML = '';\n",
              "          dataTable['output_type'] = 'display_data';\n",
              "          await google.colab.output.renderOutput(dataTable, element);\n",
              "          const docLink = document.createElement('div');\n",
              "          docLink.innerHTML = docLinkHtml;\n",
              "          element.appendChild(docLink);\n",
              "        }\n",
              "      </script>\n",
              "    </div>\n",
              "  </div>\n",
              "  "
            ]
          },
          "metadata": {},
          "execution_count": 9
        }
      ]
    },
    {
      "cell_type": "markdown",
      "source": [
        "# Melihat/memilih data"
      ],
      "metadata": {
        "id": "K5P4osHiWSXp"
      }
    },
    {
      "cell_type": "markdown",
      "source": [
        "Melihat data dari kolom tertentu."
      ],
      "metadata": {
        "id": "-x6qtHmxkAr-"
      }
    },
    {
      "cell_type": "code",
      "source": [
        "name = df['name']\n",
        "name"
      ],
      "metadata": {
        "colab": {
          "base_uri": "https://localhost:8080/"
        },
        "id": "8HliBSDMWXKL",
        "outputId": "1d5a3afb-0a7b-4ff0-a6b5-cba7fd5731ea"
      },
      "execution_count": 10,
      "outputs": [
        {
          "output_type": "execute_result",
          "data": {
            "text/plain": [
              "0    Jinbey\n",
              "1    Jhonny\n",
              "2     Willy\n",
              "Name: name, dtype: object"
            ]
          },
          "metadata": {},
          "execution_count": 10
        }
      ]
    },
    {
      "cell_type": "markdown",
      "source": [
        "Satu kolom dari DataFrame bertipe `Series`."
      ],
      "metadata": {
        "id": "-1fOsu2MkEdx"
      }
    },
    {
      "cell_type": "code",
      "source": [
        "type(name)"
      ],
      "metadata": {
        "colab": {
          "base_uri": "https://localhost:8080/"
        },
        "id": "6e7OWJ2OjbG1",
        "outputId": "d82c3dbb-c9ba-4f2c-aa8f-ae624415bb19"
      },
      "execution_count": 11,
      "outputs": [
        {
          "output_type": "execute_result",
          "data": {
            "text/plain": [
              "pandas.core.series.Series"
            ]
          },
          "metadata": {},
          "execution_count": 11
        }
      ]
    },
    {
      "cell_type": "markdown",
      "source": [
        "Alternatif melihat data dari suatu kolom."
      ],
      "metadata": {
        "id": "PCFuBDz7kKOi"
      }
    },
    {
      "cell_type": "code",
      "source": [
        "df.name"
      ],
      "metadata": {
        "colab": {
          "base_uri": "https://localhost:8080/"
        },
        "id": "DyhOSFm7i0-l",
        "outputId": "417d90ec-44d9-4471-d571-6ec632801d35"
      },
      "execution_count": 12,
      "outputs": [
        {
          "output_type": "execute_result",
          "data": {
            "text/plain": [
              "0    Jinbey\n",
              "1    Jhonny\n",
              "2     Willy\n",
              "Name: name, dtype: object"
            ]
          },
          "metadata": {},
          "execution_count": 12
        }
      ]
    },
    {
      "cell_type": "markdown",
      "source": [
        "# Memanipulasi data"
      ],
      "metadata": {
        "id": "qz9FS1XzWF5b"
      }
    },
    {
      "cell_type": "markdown",
      "source": [
        "Data yang ada di DataFrame kita bisa olah/manipulasi sesuai keinginan kita. Misalnya, kita bisa mengalikan semua data umur dengan 2."
      ],
      "metadata": {
        "id": "FixlJ2xSkea2"
      }
    },
    {
      "cell_type": "code",
      "source": [
        "df['age'] * 2"
      ],
      "metadata": {
        "colab": {
          "base_uri": "https://localhost:8080/"
        },
        "id": "FeC6EFXpWLgU",
        "outputId": "ea907839-458c-432a-a103-4219b2b9dbe5"
      },
      "execution_count": 13,
      "outputs": [
        {
          "output_type": "execute_result",
          "data": {
            "text/plain": [
              "0    24\n",
              "1    40\n",
              "2    80\n",
              "Name: age, dtype: int64"
            ]
          },
          "metadata": {},
          "execution_count": 13
        }
      ]
    },
    {
      "cell_type": "markdown",
      "source": [
        "# Menganalisis data"
      ],
      "metadata": {
        "id": "36MaxuAsWODf"
      }
    },
    {
      "cell_type": "markdown",
      "source": [
        "Kita juga bisa menganalisis data pada DataFrame. Misalkan kita ingin tau rata-rata umur, bisa dilakukan seperti ini."
      ],
      "metadata": {
        "id": "lOv9iCatkyi2"
      }
    },
    {
      "cell_type": "code",
      "source": [
        "df['age'].mean()"
      ],
      "metadata": {
        "colab": {
          "base_uri": "https://localhost:8080/"
        },
        "id": "SpWgWitZWX6j",
        "outputId": "1fb419a0-3fc2-41d5-ac60-a42dbd55d523"
      },
      "execution_count": 15,
      "outputs": [
        {
          "output_type": "execute_result",
          "data": {
            "text/plain": [
              "24.0"
            ]
          },
          "metadata": {},
          "execution_count": 15
        }
      ]
    },
    {
      "cell_type": "markdown",
      "source": [
        "# Visualisasi data"
      ],
      "metadata": {
        "id": "A2VX_py4f8_e"
      }
    },
    {
      "cell_type": "markdown",
      "source": [
        "Kita juga bisa membuat visualisasi data dari DataFrame. Untuk ini kita bisa menggunaka n `matplotlib` library. \n",
        "Pertama, kita harus import `matplotlib` dulu."
      ],
      "metadata": {
        "id": "45IwMthVk_qa"
      }
    },
    {
      "cell_type": "code",
      "source": [
        "import matplotlib.pyplot as plt\n",
        "\n",
        "plt.figure()\n",
        "\n",
        "df = pd.read_csv('id_corona_cases.csv')\n",
        "\n",
        "df.plot(x='date')"
      ],
      "metadata": {
        "colab": {
          "base_uri": "https://localhost:8080/",
          "height": 484
        },
        "id": "g9yf3va_f_hH",
        "outputId": "dd2daafb-ceca-4ff6-a2eb-1ee382035ce3"
      },
      "execution_count": 16,
      "outputs": [
        {
          "output_type": "execute_result",
          "data": {
            "text/plain": [
              "<Axes: xlabel='date'>"
            ]
          },
          "metadata": {},
          "execution_count": 16
        },
        {
          "output_type": "display_data",
          "data": {
            "text/plain": [
              "<Figure size 640x480 with 0 Axes>"
            ]
          },
          "metadata": {}
        },
        {
          "output_type": "display_data",
          "data": {
            "text/plain": [
              "<Figure size 640x480 with 1 Axes>"
            ],
            "image/png": "[encoded data removed]"
          },
          "metadata": {}
        }
      ]
    }
  ]
}